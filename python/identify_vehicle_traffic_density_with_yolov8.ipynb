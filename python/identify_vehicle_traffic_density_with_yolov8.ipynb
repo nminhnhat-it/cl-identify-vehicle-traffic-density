{
 "cells": [
  {
   "cell_type": "markdown",
   "metadata": {},
   "source": [
    "# Identify vehicle traffic density with yolov8"
   ]
  },
  {
   "cell_type": "markdown",
   "metadata": {},
   "source": [
    "## Setup"
   ]
  },
  {
   "cell_type": "code",
   "execution_count": null,
   "metadata": {},
   "outputs": [],
   "source": [
    "%pip install -r requirements.txt"
   ]
  },
  {
   "cell_type": "code",
   "execution_count": null,
   "metadata": {},
   "outputs": [],
   "source": [
    "from ultralytics import YOLO\n",
    "import cv2\n",
    "import numpy as np\n",
    "import os"
   ]
  },
  {
   "cell_type": "markdown",
   "metadata": {},
   "source": [
    "## Training"
   ]
  },
  {
   "cell_type": "code",
   "execution_count": null,
   "metadata": {},
   "outputs": [],
   "source": [
    "model = YOLO(\"./models/yolov8m.yaml\")"
   ]
  },
  {
   "cell_type": "code",
   "execution_count": null,
   "metadata": {},
   "outputs": [],
   "source": [
    "data_path=\"./datasets/dataset.yaml\"\n",
    "project = \"./logs\""
   ]
  },
  {
   "cell_type": "code",
   "execution_count": null,
   "metadata": {},
   "outputs": [],
   "source": [
    "results = model.train(data=data_path, epochs=200, imgsz=96, project=project, pretrained=False, batch=4)"
   ]
  },
  {
   "cell_type": "markdown",
   "metadata": {},
   "source": [
    "## Resuming interrupted trainings"
   ]
  },
  {
   "cell_type": "code",
   "execution_count": null,
   "metadata": {},
   "outputs": [],
   "source": [
    "model_path='./models/last.pt'"
   ]
  },
  {
   "cell_type": "code",
   "execution_count": null,
   "metadata": {},
   "outputs": [],
   "source": [
    "model = YOLO(model_path)  # load a partially trained model\n",
    "\n",
    "results = model.train(resume=True)"
   ]
  },
  {
   "cell_type": "markdown",
   "metadata": {},
   "source": [
    "## Make a prediction"
   ]
  },
  {
   "cell_type": "code",
   "execution_count": null,
   "metadata": {},
   "outputs": [],
   "source": [
    "model = YOLO(\"models/yolov8x-seg.pt\")"
   ]
  },
  {
   "cell_type": "markdown",
   "metadata": {},
   "source": [
    "### Road segmentation"
   ]
  },
  {
   "cell_type": "code",
   "execution_count": null,
   "metadata": {},
   "outputs": [],
   "source": [
    "def road_segmnent(image):\n",
    "  # Convert imae to hsv\n",
    "  hsv = cv2.cvtColor(image, cv2.COLOR_RGB2HSV)\n",
    "\n",
    "  # Segment green object\n",
    "  lower_blue = np.array([40, 50, 50])\n",
    "  upper_blue = np.array([90, 255, 255])\n",
    "  mask = cv2.inRange(hsv, lower_blue, upper_blue)\n",
    "\n",
    "  # Cut the ROI\n",
    "  active_pixels = np.stack(np.where(mask))\n",
    "  top_left = np.min(active_pixels, axis=1).astype(np.int32)\n",
    "  bottom_right = np.max(active_pixels, axis=1).astype(np.int32)\n",
    "  y1, x1 = top_left\n",
    "  y2, x2 = bottom_right\n",
    "  mask = mask[y1:, x1:x2]\n",
    "\n",
    "  # Extract the largest component\n",
    "  mask = mask.astype('uint8')\n",
    "  mask = cv2.bitwise_not(mask)\n",
    "  mask = mask.astype('uint8')\n",
    "  nb_components, output, stats, centroids = cv2.connectedComponentsWithStats(mask, connectivity=8)\n",
    "  sizes = stats[:, -1]\n",
    "  max_label = 1\n",
    "  max_size = sizes[1]\n",
    "  for i in range(2, nb_components):\n",
    "    if sizes[i] > max_size:\n",
    "      max_label = i\n",
    "      max_size = sizes[i]\n",
    "  mask = np.zeros(output.shape)\n",
    "  mask[output == max_label] = 255\n",
    "\n",
    "  # Connect\n",
    "  mask = mask.astype('uint8')\n",
    "  mask = cv2.bitwise_not(mask)\n",
    "  mask = mask.astype('uint8')\n",
    "  cnts = cv2.findContours(mask, cv2.RETR_TREE, cv2.CHAIN_APPROX_SIMPLE)\n",
    "  cnts = cnts[0] if len(cnts) == 2 else cnts[1]\n",
    "  for c in cnts:\n",
    "    area = cv2.contourArea(c)\n",
    "    if area < 10:\n",
    "      cv2.drawContours(mask, [c], -1, (0, 0, 0), -1)\n",
    "  # Morph close and invert image\n",
    "  kernel = cv2.getStructuringElement(cv2.MORPH_RECT, (30, 30))\n",
    "  mask = 255 - cv2.morphologyEx(mask, cv2.MORPH_CLOSE, kernel, iterations=2)\n",
    "\n",
    "  # Extract the largest component\n",
    "  mask = mask.astype('uint8')\n",
    "  nb_components, output, stats, centroids = cv2.connectedComponentsWithStats(mask, connectivity=8)\n",
    "  sizes = stats[:, -1]\n",
    "  max_label = 1\n",
    "  max_size = sizes[1]\n",
    "  for i in range(2, nb_components):\n",
    "    if sizes[i] > max_size:\n",
    "      max_label = i\n",
    "      max_size = sizes[i]\n",
    "  mask = np.zeros(output.shape)\n",
    "  mask[output == max_label] = 255\n",
    "\n",
    "  # Cut the ROI\n",
    "  mask = mask.astype('uint8')\n",
    "  mask = cv2.bitwise_not(mask)\n",
    "  active_pixels = np.stack(np.where(mask))\n",
    "  top_left = np.min(active_pixels, axis=1).astype(np.int32)\n",
    "  bottom_right = np.max(active_pixels, axis=1).astype(np.int32)\n",
    "  y3, x3 = top_left\n",
    "  y4, x4 = bottom_right\n",
    "  mask = mask[y3:, x3:x4]\n",
    "\n",
    "  return mask, y1, x1, y2, x2, y3, x3, y4, x4"
   ]
  },
  {
   "cell_type": "markdown",
   "metadata": {},
   "source": [
    "### Segmentation with images"
   ]
  },
  {
   "cell_type": "code",
   "execution_count": null,
   "metadata": {},
   "outputs": [],
   "source": [
    "image = (r'predict_data/14.png')\n",
    "\n",
    "cls_names = model.names\n",
    "cap = cv2.imread(image)\n",
    "\n",
    "# count road pixel\n",
    "road_mask, y1, x1, y2, x2, y3, x3, y4, x4 = road_segmnent(cap)\n",
    "\n",
    "cap = cap[y1:,x1:x2]\n",
    "cap = cap[y3:,x3:x4]\n",
    "\n",
    "results = model.predict(cap, device=\"mps\", classes=[0, 1, 2, 3, 5, 7])\n",
    "result = results[0]\n",
    "\n",
    "boxes = np.array(result.boxes.xyxy.cpu(), dtype=\"int\")\n",
    "classes = np.array(result.boxes.cls.cpu(), dtype=\"int\")\n",
    "masks = result.masks.xy\n",
    "\n",
    "for cls, box, mask in zip(classes, boxes, masks):\n",
    "  (x, y, x2, y2) = box\n",
    "  points = np.int32([mask])\n",
    "  cv2.fillPoly(cap, points, (0, 0, 0))\n",
    "\n",
    "# count vehicle pixel\n",
    "gray_image = cv2.cvtColor(cap, cv2.COLOR_BGR2GRAY)\n",
    "ret, thresh_binary = cv2.threshold(gray_image, 0, 255, cv2.THRESH_BINARY)\n",
    "\n",
    "p = np.where(road_mask == 0)\n",
    "p1 = np.where(thresh_binary == 0)\n",
    "# cap[p] = 0\n",
    "# cap[p1] = 255\n",
    "\n",
    "# Calculate pixel\n",
    "road_pixel = np.sum(road_mask == 0)*0.5\n",
    "vehicle_pixel = np.sum(thresh_binary == 0)\n",
    "P = vehicle_pixel/road_pixel*100\n",
    "\n",
    "print(f'Road: {road_pixel}')\n",
    "print(f'Vehicle: {vehicle_pixel}')\n",
    "print(f'P = {P}%')\n",
    "\n",
    "if P>50:\n",
    "  print('High')\n",
    "elif (P>=20) & (P<50):\n",
    "  print('Medium')\n",
    "else:\n",
    "  print('Low')\n",
    "\n",
    "cv2.imshow(\"Img\", cap)\n",
    "cv2.waitKey(0)\n",
    "cv2.destroyAllWindows()\n",
    "cv2.waitKey(1)"
   ]
  },
  {
   "cell_type": "markdown",
   "metadata": {},
   "source": [
    "### Segmentation with videos"
   ]
  },
  {
   "cell_type": "code",
   "execution_count": null,
   "metadata": {},
   "outputs": [],
   "source": [
    "cap = cv2.VideoCapture(\"./predict_data/pexels-christopher-schultz-5927708 (720p).mp4\")\n",
    "\n",
    "cls_names = model.names\n",
    "\n",
    "while True:\n",
    "  ret, frame = cap.read()\n",
    "  if not ret:\n",
    "    break\n",
    "\n",
    "  road_mask, y1, x1, y2, x2, y3, x3, y4, x4 = road_segmnent(frame)\n",
    "  road_pixel = np.sum(road_mask == 0)\n",
    "\n",
    "  frame = frame[y1:,x1:x2]\n",
    "  frame = frame[y3:,x3:x4]\n",
    "\n",
    "  results = model.predict(frame, device=\"mps\", classes=[1, 2, 3, 5, 7])\n",
    "  result = results[0]\n",
    "\n",
    "  boxes = np.array(result.boxes.xyxy.cpu(), dtype=\"int\")\n",
    "  classes = np.array(result.boxes.cls.cpu(), dtype=\"int\")\n",
    "  masks = result.masks.xy\n",
    "\n",
    "  for cls, box, mask in zip(classes, boxes, masks):\n",
    "    (x, y, x2, y2) = box\n",
    "    points = np.int32([mask])\n",
    "    cv2.fillPoly(frame, points, (0, 0, 0))\n",
    "\n",
    "  # count vehicle pixel\n",
    "  gray_image = cv2.cvtColor(frame, cv2.COLOR_BGR2GRAY)\n",
    "  ret, thresh_binary = cv2.threshold(gray_image, 0, 255, cv2.THRESH_BINARY)\n",
    "  vehicle_pixel = np.sum(thresh_binary == 0)\n",
    "\n",
    "  p = np.where(road_mask == 0)\n",
    "  p1 = np.where(thresh_binary == 0)\n",
    "  frame[p] = 0\n",
    "  frame[p1] = 255  \n",
    "\n",
    "  print(f'Road: {road_pixel}')\n",
    "  print(f'Vehicle: {vehicle_pixel}')\n",
    "  print(f'P = {vehicle_pixel/road_pixel*100}%')\n",
    "\n",
    "  cv2.imshow(\"Video\", frame)\n",
    "\n",
    "  key = cv2.waitKey(1)\n",
    "  if key == 27:  # Press Esc to close\n",
    "    break\n",
    "\n",
    "cap.release()\n",
    "cv2.destroyAllWindows()\n",
    "cv2.waitKey(1)"
   ]
  }
 ],
 "metadata": {
  "kernelspec": {
   "display_name": "Python 3",
   "language": "python",
   "name": "python3"
  },
  "language_info": {
   "codemirror_mode": {
    "name": "ipython",
    "version": 3
   },
   "file_extension": ".py",
   "mimetype": "text/x-python",
   "name": "python",
   "nbconvert_exporter": "python",
   "pygments_lexer": "ipython3",
   "version": "3.11.7"
  }
 },
 "nbformat": 4,
 "nbformat_minor": 2
}
